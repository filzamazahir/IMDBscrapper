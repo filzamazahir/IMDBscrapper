{
 "cells": [
  {
   "cell_type": "markdown",
   "id": "industrial-explosion",
   "metadata": {},
   "source": [
    "# IMDB Scrapper"
   ]
  },
  {
   "cell_type": "code",
   "execution_count": null,
   "id": "3b8dc904",
   "metadata": {},
   "outputs": [],
   "source": [
    "#!pip3 install scikit-learn --break-system-packages\n",
    "#!pip3 install pandas --break-system-packages"
   ]
  },
  {
   "cell_type": "code",
   "execution_count": 29,
   "id": "soviet-revelation",
   "metadata": {},
   "outputs": [],
   "source": [
    "# Loading all the libraries\n",
    "import pandas as pd\n",
    "import numpy as np\n",
    "from matplotlib import pyplot as plt\n"
   ]
  },
  {
   "cell_type": "code",
   "execution_count": null,
   "id": "a0d8c641",
   "metadata": {},
   "outputs": [],
   "source": [
    "## Build the Web scraper here"
   ]
  },
  {
   "cell_type": "markdown",
   "id": "separate-lunch",
   "metadata": {},
   "source": [
    "## Preprocessing Data"
   ]
  },
  {
   "cell_type": "code",
   "execution_count": null,
   "id": "c39474e3",
   "metadata": {},
   "outputs": [],
   "source": [
    "#Check for missing values\n",
    "df.isna().sum()"
   ]
  },
  {
   "cell_type": "code",
   "execution_count": null,
   "id": "ccf7b25e",
   "metadata": {},
   "outputs": [],
   "source": [
    "#Check for duplicates\n",
    "duplicate = df[df.duplicated()]\n",
    "duplicate"
   ]
  },
  {
   "cell_type": "markdown",
   "id": "superb-object",
   "metadata": {},
   "source": [
    "## EDA"
   ]
  },
  {
   "cell_type": "markdown",
   "id": "surprised-annex",
   "metadata": {},
   "source": [
    "Answer questions here\n",
    " What genres of film showed the highest percentage present in the data?, What actors appeared in the most films from the list?, What actors worked together the most? What genre had the most nominations or award\n",
    " Trends in IMDB ratings over the years for top-rated movies.\n",
    "\n",
    "Actors with the highest number of awards and nominations.\n",
    "\n",
    "Correlation between the popularity metric and the number of award wins for movies.\n",
    "what genres of movies have the highest award nominations and wins?\n",
    "what genres have the longest durations?\n",
    "what genres are most popular?\n",
    "Do actors with alot of credits have the most awards?"
   ]
  },
  {
   "cell_type": "code",
   "execution_count": null,
   "id": "hearing-error",
   "metadata": {},
   "outputs": [],
   "source": [
    "## Machine Learning Model\n",
    "\n",
    "build a model for how likely a movie is to win an award based on genre/actors in it"
   ]
  }
 ],
 "metadata": {
  "kernelspec": {
   "display_name": "Python 3 (ipykernel)",
   "language": "python",
   "name": "python3"
  },
  "language_info": {
   "codemirror_mode": {
    "name": "ipython",
    "version": 3
   },
   "file_extension": ".py",
   "mimetype": "text/x-python",
   "name": "python",
   "nbconvert_exporter": "python",
   "pygments_lexer": "ipython3",
   "version": "3.13.1"
  }
 },
 "nbformat": 4,
 "nbformat_minor": 5
}
